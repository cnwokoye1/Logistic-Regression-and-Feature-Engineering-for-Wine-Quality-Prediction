{
  "cells": [
    {
      "cell_type": "markdown",
      "metadata": {
        "id": "view-in-github",
        "colab_type": "text"
      },
      "source": [
        "<a href=\"https://colab.research.google.com/github/cnwokoye1/Logistic-Regression-and-Feature-Engineering-for-Wine-Quality-Prediction/blob/main/A3_LogisticRegression_MLP_Nwokoye_Christopher.ipynb\" target=\"_parent\"><img src=\"https://colab.research.google.com/assets/colab-badge.svg\" alt=\"Open In Colab\"/></a>"
      ]
    },
    {
      "cell_type": "markdown",
      "metadata": {
        "id": "IDz4if1sbRP5"
      },
      "source": [
        "# Your Name Here: Christopher Nwokoye\n"
      ]
    },
    {
      "cell_type": "markdown",
      "metadata": {
        "id": "Bz-gHK-NbRP8"
      },
      "source": [
        "# A3 LogisticRegression, Multi-layer Perceptron (MLP)"
      ]
    },
    {
      "cell_type": "markdown",
      "metadata": {
        "id": "FYLAgVgLbRP8"
      },
      "source": [
        "## 1. Load data and perform general EDA (3+2+1+3+6 = 15pts)"
      ]
    },
    {
      "cell_type": "markdown",
      "metadata": {
        "id": "LmDCbHoVbRP9"
      },
      "source": [
        "### 1.1 import libraries: numpy, matplotlib.pyplot and pandas. (1+1+1 = 3pts)"
      ]
    },
    {
      "cell_type": "markdown",
      "metadata": {
        "id": "ROl5XAfMbRP9"
      },
      "source": [
        "You can import other libraries below as needed in any block."
      ]
    },
    {
      "cell_type": "code",
      "execution_count": null,
      "metadata": {
        "id": "jsCWKg-PbRP9"
      },
      "outputs": [],
      "source": [
        "import numpy as np\n",
        "import matplotlib.pyplot as plt\n",
        "import pandas as pd"
      ]
    },
    {
      "cell_type": "markdown",
      "metadata": {
        "id": "fy9cehaxbRP-"
      },
      "source": [
        "### 1.2 import the data to a pandas dataframe and show the count of rows and columns (2pts)"
      ]
    },
    {
      "cell_type": "code",
      "execution_count": null,
      "metadata": {
        "colab": {
          "base_uri": "https://localhost:8080/"
        },
        "id": "iBy5Sl36bRP_",
        "outputId": "143fef8d-2663-469a-d0c2-34e571864d5c"
      },
      "outputs": [
        {
          "output_type": "stream",
          "name": "stdout",
          "text": [
            "Drive already mounted at /content/drive; to attempt to forcibly remount, call drive.mount(\"/content/drive\", force_remount=True).\n",
            "Number of rows: 6497\n",
            "Number of columns: 13\n"
          ]
        }
      ],
      "source": [
        "# import and mount google drive\n",
        "# to be able to access stored files\n",
        "from google.colab import drive\n",
        "drive.mount('/content/drive')\n",
        "\n",
        "# import data from file to pandas dataframe\n",
        "file_path = '/content/drive/MyDrive/Colab Notebooks/A3_LogisticRegression_MLP/Wine_Quality_Data.csv'\n",
        "df = pd.read_csv(file_path)\n",
        "\n",
        "# show count of rows and columns of df\n",
        "print('Number of rows: ' + str(len(df)))\n",
        "print('Number of columns: ' + str(len(df.columns)))"
      ]
    },
    {
      "cell_type": "markdown",
      "metadata": {
        "id": "NOcp7FJmbRP_"
      },
      "source": [
        "### 1.3 Show if any column has null values. (1pt)"
      ]
    },
    {
      "cell_type": "code",
      "execution_count": null,
      "metadata": {
        "id": "7NFRW6j8bRP_",
        "colab": {
          "base_uri": "https://localhost:8080/",
          "height": 488
        },
        "outputId": "c8647c6f-905c-4027-d0b1-03dafaa7be21"
      },
      "outputs": [
        {
          "output_type": "execute_result",
          "data": {
            "text/plain": [
              "      fixed_acidity  volatile_acidity  citric_acid  residual_sugar  chlorides  \\\n",
              "0             False             False        False           False      False   \n",
              "1             False             False        False           False      False   \n",
              "2             False             False        False           False      False   \n",
              "3             False             False        False           False      False   \n",
              "4             False             False        False           False      False   \n",
              "...             ...               ...          ...             ...        ...   \n",
              "6492          False             False        False           False      False   \n",
              "6493          False             False        False           False      False   \n",
              "6494          False             False        False           False      False   \n",
              "6495          False             False        False           False      False   \n",
              "6496          False             False        False           False      False   \n",
              "\n",
              "      free_sulfur_dioxide  total_sulfur_dioxide  density     pH  sulphates  \\\n",
              "0                   False                 False    False  False      False   \n",
              "1                   False                 False    False  False      False   \n",
              "2                   False                 False    False  False      False   \n",
              "3                   False                 False    False  False      False   \n",
              "4                   False                 False    False  False      False   \n",
              "...                   ...                   ...      ...    ...        ...   \n",
              "6492                False                 False    False  False      False   \n",
              "6493                False                 False    False  False      False   \n",
              "6494                False                 False    False  False      False   \n",
              "6495                False                 False    False  False      False   \n",
              "6496                False                 False    False  False      False   \n",
              "\n",
              "      alcohol  quality  color  \n",
              "0       False    False  False  \n",
              "1       False    False  False  \n",
              "2       False    False  False  \n",
              "3       False    False  False  \n",
              "4       False    False  False  \n",
              "...       ...      ...    ...  \n",
              "6492    False    False  False  \n",
              "6493    False    False  False  \n",
              "6494    False    False  False  \n",
              "6495    False    False  False  \n",
              "6496    False    False  False  \n",
              "\n",
              "[6497 rows x 13 columns]"
            ],
            "text/html": [
              "\n",
              "  <div id=\"df-8aa94732-42a8-45db-81f5-a57d38fee70f\">\n",
              "    <div class=\"colab-df-container\">\n",
              "      <div>\n",
              "<style scoped>\n",
              "    .dataframe tbody tr th:only-of-type {\n",
              "        vertical-align: middle;\n",
              "    }\n",
              "\n",
              "    .dataframe tbody tr th {\n",
              "        vertical-align: top;\n",
              "    }\n",
              "\n",
              "    .dataframe thead th {\n",
              "        text-align: right;\n",
              "    }\n",
              "</style>\n",
              "<table border=\"1\" class=\"dataframe\">\n",
              "  <thead>\n",
              "    <tr style=\"text-align: right;\">\n",
              "      <th></th>\n",
              "      <th>fixed_acidity</th>\n",
              "      <th>volatile_acidity</th>\n",
              "      <th>citric_acid</th>\n",
              "      <th>residual_sugar</th>\n",
              "      <th>chlorides</th>\n",
              "      <th>free_sulfur_dioxide</th>\n",
              "      <th>total_sulfur_dioxide</th>\n",
              "      <th>density</th>\n",
              "      <th>pH</th>\n",
              "      <th>sulphates</th>\n",
              "      <th>alcohol</th>\n",
              "      <th>quality</th>\n",
              "      <th>color</th>\n",
              "    </tr>\n",
              "  </thead>\n",
              "  <tbody>\n",
              "    <tr>\n",
              "      <th>0</th>\n",
              "      <td>False</td>\n",
              "      <td>False</td>\n",
              "      <td>False</td>\n",
              "      <td>False</td>\n",
              "      <td>False</td>\n",
              "      <td>False</td>\n",
              "      <td>False</td>\n",
              "      <td>False</td>\n",
              "      <td>False</td>\n",
              "      <td>False</td>\n",
              "      <td>False</td>\n",
              "      <td>False</td>\n",
              "      <td>False</td>\n",
              "    </tr>\n",
              "    <tr>\n",
              "      <th>1</th>\n",
              "      <td>False</td>\n",
              "      <td>False</td>\n",
              "      <td>False</td>\n",
              "      <td>False</td>\n",
              "      <td>False</td>\n",
              "      <td>False</td>\n",
              "      <td>False</td>\n",
              "      <td>False</td>\n",
              "      <td>False</td>\n",
              "      <td>False</td>\n",
              "      <td>False</td>\n",
              "      <td>False</td>\n",
              "      <td>False</td>\n",
              "    </tr>\n",
              "    <tr>\n",
              "      <th>2</th>\n",
              "      <td>False</td>\n",
              "      <td>False</td>\n",
              "      <td>False</td>\n",
              "      <td>False</td>\n",
              "      <td>False</td>\n",
              "      <td>False</td>\n",
              "      <td>False</td>\n",
              "      <td>False</td>\n",
              "      <td>False</td>\n",
              "      <td>False</td>\n",
              "      <td>False</td>\n",
              "      <td>False</td>\n",
              "      <td>False</td>\n",
              "    </tr>\n",
              "    <tr>\n",
              "      <th>3</th>\n",
              "      <td>False</td>\n",
              "      <td>False</td>\n",
              "      <td>False</td>\n",
              "      <td>False</td>\n",
              "      <td>False</td>\n",
              "      <td>False</td>\n",
              "      <td>False</td>\n",
              "      <td>False</td>\n",
              "      <td>False</td>\n",
              "      <td>False</td>\n",
              "      <td>False</td>\n",
              "      <td>False</td>\n",
              "      <td>False</td>\n",
              "    </tr>\n",
              "    <tr>\n",
              "      <th>4</th>\n",
              "      <td>False</td>\n",
              "      <td>False</td>\n",
              "      <td>False</td>\n",
              "      <td>False</td>\n",
              "      <td>False</td>\n",
              "      <td>False</td>\n",
              "      <td>False</td>\n",
              "      <td>False</td>\n",
              "      <td>False</td>\n",
              "      <td>False</td>\n",
              "      <td>False</td>\n",
              "      <td>False</td>\n",
              "      <td>False</td>\n",
              "    </tr>\n",
              "    <tr>\n",
              "      <th>...</th>\n",
              "      <td>...</td>\n",
              "      <td>...</td>\n",
              "      <td>...</td>\n",
              "      <td>...</td>\n",
              "      <td>...</td>\n",
              "      <td>...</td>\n",
              "      <td>...</td>\n",
              "      <td>...</td>\n",
              "      <td>...</td>\n",
              "      <td>...</td>\n",
              "      <td>...</td>\n",
              "      <td>...</td>\n",
              "      <td>...</td>\n",
              "    </tr>\n",
              "    <tr>\n",
              "      <th>6492</th>\n",
              "      <td>False</td>\n",
              "      <td>False</td>\n",
              "      <td>False</td>\n",
              "      <td>False</td>\n",
              "      <td>False</td>\n",
              "      <td>False</td>\n",
              "      <td>False</td>\n",
              "      <td>False</td>\n",
              "      <td>False</td>\n",
              "      <td>False</td>\n",
              "      <td>False</td>\n",
              "      <td>False</td>\n",
              "      <td>False</td>\n",
              "    </tr>\n",
              "    <tr>\n",
              "      <th>6493</th>\n",
              "      <td>False</td>\n",
              "      <td>False</td>\n",
              "      <td>False</td>\n",
              "      <td>False</td>\n",
              "      <td>False</td>\n",
              "      <td>False</td>\n",
              "      <td>False</td>\n",
              "      <td>False</td>\n",
              "      <td>False</td>\n",
              "      <td>False</td>\n",
              "      <td>False</td>\n",
              "      <td>False</td>\n",
              "      <td>False</td>\n",
              "    </tr>\n",
              "    <tr>\n",
              "      <th>6494</th>\n",
              "      <td>False</td>\n",
              "      <td>False</td>\n",
              "      <td>False</td>\n",
              "      <td>False</td>\n",
              "      <td>False</td>\n",
              "      <td>False</td>\n",
              "      <td>False</td>\n",
              "      <td>False</td>\n",
              "      <td>False</td>\n",
              "      <td>False</td>\n",
              "      <td>False</td>\n",
              "      <td>False</td>\n",
              "      <td>False</td>\n",
              "    </tr>\n",
              "    <tr>\n",
              "      <th>6495</th>\n",
              "      <td>False</td>\n",
              "      <td>False</td>\n",
              "      <td>False</td>\n",
              "      <td>False</td>\n",
              "      <td>False</td>\n",
              "      <td>False</td>\n",
              "      <td>False</td>\n",
              "      <td>False</td>\n",
              "      <td>False</td>\n",
              "      <td>False</td>\n",
              "      <td>False</td>\n",
              "      <td>False</td>\n",
              "      <td>False</td>\n",
              "    </tr>\n",
              "    <tr>\n",
              "      <th>6496</th>\n",
              "      <td>False</td>\n",
              "      <td>False</td>\n",
              "      <td>False</td>\n",
              "      <td>False</td>\n",
              "      <td>False</td>\n",
              "      <td>False</td>\n",
              "      <td>False</td>\n",
              "      <td>False</td>\n",
              "      <td>False</td>\n",
              "      <td>False</td>\n",
              "      <td>False</td>\n",
              "      <td>False</td>\n",
              "      <td>False</td>\n",
              "    </tr>\n",
              "  </tbody>\n",
              "</table>\n",
              "<p>6497 rows × 13 columns</p>\n",
              "</div>\n",
              "      <button class=\"colab-df-convert\" onclick=\"convertToInteractive('df-8aa94732-42a8-45db-81f5-a57d38fee70f')\"\n",
              "              title=\"Convert this dataframe to an interactive table.\"\n",
              "              style=\"display:none;\">\n",
              "        \n",
              "  <svg xmlns=\"http://www.w3.org/2000/svg\" height=\"24px\"viewBox=\"0 0 24 24\"\n",
              "       width=\"24px\">\n",
              "    <path d=\"M0 0h24v24H0V0z\" fill=\"none\"/>\n",
              "    <path d=\"M18.56 5.44l.94 2.06.94-2.06 2.06-.94-2.06-.94-.94-2.06-.94 2.06-2.06.94zm-11 1L8.5 8.5l.94-2.06 2.06-.94-2.06-.94L8.5 2.5l-.94 2.06-2.06.94zm10 10l.94 2.06.94-2.06 2.06-.94-2.06-.94-.94-2.06-.94 2.06-2.06.94z\"/><path d=\"M17.41 7.96l-1.37-1.37c-.4-.4-.92-.59-1.43-.59-.52 0-1.04.2-1.43.59L10.3 9.45l-7.72 7.72c-.78.78-.78 2.05 0 2.83L4 21.41c.39.39.9.59 1.41.59.51 0 1.02-.2 1.41-.59l7.78-7.78 2.81-2.81c.8-.78.8-2.07 0-2.86zM5.41 20L4 18.59l7.72-7.72 1.47 1.35L5.41 20z\"/>\n",
              "  </svg>\n",
              "      </button>\n",
              "      \n",
              "  <style>\n",
              "    .colab-df-container {\n",
              "      display:flex;\n",
              "      flex-wrap:wrap;\n",
              "      gap: 12px;\n",
              "    }\n",
              "\n",
              "    .colab-df-convert {\n",
              "      background-color: #E8F0FE;\n",
              "      border: none;\n",
              "      border-radius: 50%;\n",
              "      cursor: pointer;\n",
              "      display: none;\n",
              "      fill: #1967D2;\n",
              "      height: 32px;\n",
              "      padding: 0 0 0 0;\n",
              "      width: 32px;\n",
              "    }\n",
              "\n",
              "    .colab-df-convert:hover {\n",
              "      background-color: #E2EBFA;\n",
              "      box-shadow: 0px 1px 2px rgba(60, 64, 67, 0.3), 0px 1px 3px 1px rgba(60, 64, 67, 0.15);\n",
              "      fill: #174EA6;\n",
              "    }\n",
              "\n",
              "    [theme=dark] .colab-df-convert {\n",
              "      background-color: #3B4455;\n",
              "      fill: #D2E3FC;\n",
              "    }\n",
              "\n",
              "    [theme=dark] .colab-df-convert:hover {\n",
              "      background-color: #434B5C;\n",
              "      box-shadow: 0px 1px 3px 1px rgba(0, 0, 0, 0.15);\n",
              "      filter: drop-shadow(0px 1px 2px rgba(0, 0, 0, 0.3));\n",
              "      fill: #FFFFFF;\n",
              "    }\n",
              "  </style>\n",
              "\n",
              "      <script>\n",
              "        const buttonEl =\n",
              "          document.querySelector('#df-8aa94732-42a8-45db-81f5-a57d38fee70f button.colab-df-convert');\n",
              "        buttonEl.style.display =\n",
              "          google.colab.kernel.accessAllowed ? 'block' : 'none';\n",
              "\n",
              "        async function convertToInteractive(key) {\n",
              "          const element = document.querySelector('#df-8aa94732-42a8-45db-81f5-a57d38fee70f');\n",
              "          const dataTable =\n",
              "            await google.colab.kernel.invokeFunction('convertToInteractive',\n",
              "                                                     [key], {});\n",
              "          if (!dataTable) return;\n",
              "\n",
              "          const docLinkHtml = 'Like what you see? Visit the ' +\n",
              "            '<a target=\"_blank\" href=https://colab.research.google.com/notebooks/data_table.ipynb>data table notebook</a>'\n",
              "            + ' to learn more about interactive tables.';\n",
              "          element.innerHTML = '';\n",
              "          dataTable['output_type'] = 'display_data';\n",
              "          await google.colab.output.renderOutput(dataTable, element);\n",
              "          const docLink = document.createElement('div');\n",
              "          docLink.innerHTML = docLinkHtml;\n",
              "          element.appendChild(docLink);\n",
              "        }\n",
              "      </script>\n",
              "    </div>\n",
              "  </div>\n",
              "  "
            ]
          },
          "metadata": {},
          "execution_count": 17
        }
      ],
      "source": [
        "df.isnull()"
      ]
    },
    {
      "cell_type": "markdown",
      "metadata": {
        "id": "acAn8MY3bRQA"
      },
      "source": [
        "### 1.4 We will use the 'quality' column as our target label. Print the count of each label in the dataset (in percentage). Mention which quality scores are among top 3 by their counts. (3pts)"
      ]
    },
    {
      "cell_type": "code",
      "execution_count": null,
      "metadata": {
        "id": "YixdB14IbRQA",
        "colab": {
          "base_uri": "https://localhost:8080/"
        },
        "outputId": "4926533f-b89b-4ece-85f1-072bf80dcd33"
      },
      "outputs": [
        {
          "output_type": "stream",
          "name": "stdout",
          "text": [
            "      fixed_acidity  volatile_acidity  citric_acid  residual_sugar  chlorides  \\\n",
            "2475            6.9             0.360         0.34             4.2      0.018   \n",
            "3204            7.1             0.260         0.49             2.2      0.032   \n",
            "2426            7.4             0.240         0.36             2.0      0.031   \n",
            "2373            9.1             0.270         0.45            10.6      0.035   \n",
            "2419            6.6             0.360         0.29             1.6      0.021   \n",
            "...             ...               ...          ...             ...        ...   \n",
            "3649           11.8             0.230         0.38            11.1      0.034   \n",
            "1374            6.8             0.815         0.00             1.2      0.267   \n",
            "4906            9.4             0.240         0.29             8.5      0.037   \n",
            "1299            7.6             1.580         0.00             2.1      0.137   \n",
            "1469            7.3             0.980         0.05             2.1      0.061   \n",
            "\n",
            "      free_sulfur_dioxide  total_sulfur_dioxide  density    pH  sulphates  \\\n",
            "2475                 57.0                 119.0  0.98980  3.28       0.36   \n",
            "3204                 31.0                 113.0  0.99030  3.37       0.42   \n",
            "2426                 27.0                 139.0  0.99055  3.28       0.48   \n",
            "2373                 28.0                 124.0  0.99700  3.20       0.46   \n",
            "2419                 24.0                  85.0  0.98965  3.41       0.61   \n",
            "...                   ...                   ...      ...   ...        ...   \n",
            "3649                 15.0                 123.0  0.99970  2.93       0.55   \n",
            "1374                 16.0                  29.0  0.99471  3.32       0.51   \n",
            "4906                124.0                 208.0  0.99395  2.90       0.38   \n",
            "1299                  5.0                   9.0  0.99476  3.50       0.40   \n",
            "1469                 20.0                  49.0  0.99705  3.31       0.55   \n",
            "\n",
            "      alcohol  quality  color  \n",
            "2475     12.7        9  white  \n",
            "3204     12.9        9  white  \n",
            "2426     12.5        9  white  \n",
            "2373     10.4        9  white  \n",
            "2419     12.4        9  white  \n",
            "...       ...      ...    ...  \n",
            "3649      9.7        3  white  \n",
            "1374      9.8        3    red  \n",
            "4906     11.0        3  white  \n",
            "1299     10.9        3    red  \n",
            "1469      9.7        3    red  \n",
            "\n",
            "[6497 rows x 13 columns]\n"
          ]
        }
      ],
      "source": [
        "print(df.sort_values(by='quality', ascending=False))"
      ]
    },
    {
      "cell_type": "markdown",
      "metadata": {
        "id": "mPK6q_VXbRQB"
      },
      "source": [
        "### 1.5 Observe the correlation matrix for the columns. Name the pairs of columns with highest positive and highest negative correlations. (2+4 = 6pts)"
      ]
    },
    {
      "cell_type": "markdown",
      "metadata": {
        "id": "GvYc4RaobRQB"
      },
      "source": [
        "You can import and use seaborn here to visualize correlation matrix in a heatmap."
      ]
    },
    {
      "cell_type": "code",
      "execution_count": null,
      "metadata": {
        "id": "mtRqUFjLbRQB",
        "colab": {
          "base_uri": "https://localhost:8080/",
          "height": 541
        },
        "outputId": "cce4ff5f-f206-4290-ca8b-d3798fd0c5d6"
      },
      "outputs": [
        {
          "output_type": "display_data",
          "data": {
            "text/plain": [
              "<Figure size 640x480 with 2 Axes>"
            ],
            "image/png": "[encoded data removed]"
          },
          "metadata": {}
        }
      ],
      "source": [
        "import seaborn as sb\n",
        "dataplot = sb.heatmap(df.corr())\n",
        "plt.show()"
      ]
    },
    {
      "cell_type": "markdown",
      "metadata": {
        "id": "NIPEzL0vbRQC"
      },
      "source": [
        "## 2. Feature Selection and Preprocessing (2+2+3+3 = 10pts)"
      ]
    },
    {
      "cell_type": "markdown",
      "metadata": {
        "id": "uGZ4qIUObRQC"
      },
      "source": [
        "### 2.1 Drop the 'color' attribute from the dataframe. (2pts)"
      ]
    },
    {
      "cell_type": "code",
      "execution_count": null,
      "metadata": {
        "id": "ej0NrnTEbRQC"
      },
      "outputs": [],
      "source": [
        "df_2 = df.drop(['color'], axis=1)"
      ]
    },
    {
      "cell_type": "markdown",
      "metadata": {
        "id": "-gAdk0R3bRQD"
      },
      "source": [
        "### 2.2 Assign the 'quality' column to target label y, and all other columns to attribute matrix X (1+1 = 2pts)"
      ]
    },
    {
      "cell_type": "code",
      "execution_count": null,
      "metadata": {
        "id": "ERL4jLuLbRQD"
      },
      "outputs": [],
      "source": [
        "# attribute matrix X\n",
        "X = df_2.drop(['quality'], axis=1).values\n",
        "\n",
        "# target label y\n",
        "y = df_2['quality'].values"
      ]
    },
    {
      "cell_type": "markdown",
      "metadata": {
        "id": "ikShoejBbRQD"
      },
      "source": [
        "### 2.3 Use scikitlearn's Standard Scaler to scale the feature matrix X. (3pts)"
      ]
    },
    {
      "cell_type": "code",
      "execution_count": null,
      "metadata": {
        "id": "Q1aCpn9mbRQD"
      },
      "outputs": [],
      "source": [
        "# import needed library\n",
        "from sklearn.preprocessing import StandardScaler\n",
        "\n",
        "# instantiate StandardScaler\n",
        "scaler = StandardScaler()\n",
        "\n",
        "# scale feature X\n",
        "X_scaled = scaler.fit(X) # fix error (could not convert string to float: 'red')\n"
      ]
    },
    {
      "cell_type": "markdown",
      "metadata": {
        "id": "Df2WQNyPbRQE"
      },
      "source": [
        "### 2.4 Split Dataset into Training and Test set. (3 pts)\n",
        "Use 80:20 split for training and test. Also use stratified sampling to ensure balanced dataset."
      ]
    },
    {
      "cell_type": "code",
      "execution_count": null,
      "metadata": {
        "id": "w5bN-DbObRQE"
      },
      "outputs": [],
      "source": [
        "# import needed library\n",
        "from sklearn.model_selection import train_test_split\n",
        "\n",
        "# split data set into training & test\n",
        "X_train, X_test, y_train, y_test = train_test_split(X, y, test_size=0.2, random_state=42)\n"
      ]
    },
    {
      "cell_type": "markdown",
      "metadata": {
        "id": "znumXZ7HbRQE"
      },
      "source": [
        "## 3. Logistic Regression from scratch (10+10+10+25+20 = 75pts)\n"
      ]
    },
    {
      "cell_type": "markdown",
      "metadata": {
        "id": "NuDcr2ScbRQF"
      },
      "source": [
        "In this section, you will write a logistic regression algorithm from scratch using python and numpy. You will first write some helper functions for transforming label encoding to one-hot encoding, for measuring the cross-entropy loss and predicting labels from test data. These functions will later be used in the logistic regression training and testing."
      ]
    },
    {
      "cell_type": "markdown",
      "metadata": {
        "id": "1jvkHRJgbRQG"
      },
      "source": [
        "### 3.1 The target label in our dataset is the 'quality' column. It consists of categorical values, label-encoded with 7 values in the range [3-9]. To perform a multiclass logistic regression, you need a function that takes a label matrix and converts it to One-hot encoded labels. (10pts)\n",
        "\n",
        "Write the function below following the docstring."
      ]
    },
    {
      "cell_type": "code",
      "execution_count": null,
      "metadata": {
        "id": "dQyLxILkbRQG"
      },
      "outputs": [],
      "source": [
        "def onehot(y):\n",
        "    \"\"\"\n",
        "    Converts an array of labels to one-hot encoding.\n",
        "\n",
        "    Parameters:\n",
        "    -----------\n",
        "    y : numpy.ndarray\n",
        "        An array of labels. It must have a shape of (n_samples, ).\n",
        "\n",
        "    Returns:\n",
        "    --------\n",
        "    numpy.ndarray\n",
        "        A matrix of one-hot encoding. It has a shape of (n_samples, n_classes).\n",
        "    \"\"\"\n",
        "\n",
        "    # import needed library (numpy & pandas are already imported)\n",
        "    from sklearn.preprocessing import OneHotEncoder\n",
        "\n",
        "    # instantiate OneHotEncoder\n",
        "    encoder = OneHotEncoder(handle_unknown='ignore')\n",
        "\n",
        "    # perform one-hot encoding on y numpy array\n",
        "    encoder_df = pd.DataFrame(encoder.fit_transform(y))\n",
        "\n",
        "    # merge one-hot encoded columns back w/ original df\n",
        "    final_df = df_2.join(encoder_df)\n",
        "\n",
        "    print(final_df) # show final df\n"
      ]
    },
    {
      "cell_type": "markdown",
      "metadata": {
        "id": "enn8N7JAbRQH"
      },
      "source": [
        "### 3.2 For multi-class classification, you also need to measure cross-entropy loss. Cross-entropy loss is measured by the following formula:\n",
        "$\\text{Cross-Entropy Loss} = -\\frac{1}{N} \\sum_{i=1}^N \\sum_{j=1}^n y_{ij} \\log \\hat{y}_{ij}$\n",
        "\n",
        "Write a function that takes two matrices: one matrix of true labels $y_{ij}$, and one matrix of the predicted labels by your model $\\hat{y}_{ij}$ (you are about to write the model function soon below), and returns the computed loss. **(10pts)**\n"
      ]
    },
    {
      "cell_type": "code",
      "execution_count": null,
      "metadata": {
        "id": "jkBXxefqbRQH"
      },
      "outputs": [],
      "source": [
        "def cross_entropy_loss(y_true, y_pred):\n",
        "    \"\"\"\n",
        "    Computes the cross-entropy loss between the true labels and predicted labels.\n",
        "\n",
        "    Parameters\n",
        "    ----------\n",
        "    y_true : numpy array\n",
        "        Array of true labels with shape (m, n_classes).\n",
        "    y_pred : numpy array\n",
        "        Array of predicted labels with shape (m, n_classes).\n",
        "\n",
        "    Returns\n",
        "    -------\n",
        "    float\n",
        "        Cross-entropy loss between y_true and y_pred.\n",
        "\n",
        "    Notes\n",
        "    -----\n",
        "    This function assumes that the labels are one-hot encoded.\n",
        "    \"\"\"\n",
        "\n",
        "    if y_true == 1:\n",
        "      return -np.log(y_pred)\n",
        "    else:\n",
        "      return -np.log(1 - y_pred)\n"
      ]
    },
    {
      "cell_type": "markdown",
      "metadata": {
        "id": "6vXVf9olbRQH"
      },
      "source": [
        "### 3.3 Write a function for softmax activation to compute probabilities from the linear score $z_i$. Softmax function uses the following formula:\n",
        "$$\\sigma(z_i) = \\frac{e^{z_i}}{\\sum_{j=1}^{k}e^{z_j}} , \\text{for } i=1,2,3,...,k $$\n",
        "where $z_i$ is the linear layer score for i-th input.\n",
        "\n",
        "**(10pts)**"
      ]
    },
    {
      "cell_type": "code",
      "execution_count": null,
      "metadata": {
        "id": "0VdkVOc5bRQI"
      },
      "outputs": [],
      "source": [
        "def softmax(scores):\n",
        "    \"\"\"\n",
        "    Compute the softmax of the given scores.\n",
        "\n",
        "    Parameters:\n",
        "    -----------\n",
        "    scores : numpy.ndarray\n",
        "        A 2D numpy array of shape (m, n), where m is the number of samples and n is the number of classes.\n",
        "\n",
        "    Returns:\n",
        "    --------\n",
        "    probs : numpy.ndarray\n",
        "        A 2D numpy array of shape (m, n) containing the probabilities of each sample belonging to each class.\n",
        "    \"\"\"\n",
        "\n",
        "    # compute probabilities for scores and display them\n",
        "    softmax_scores = np.exp(scores) / np.sum((np.exp(scores)))\n",
        "    print(softmax_scores)"
      ]
    },
    {
      "cell_type": "markdown",
      "metadata": {
        "id": "gMpg4VIUbRQI"
      },
      "source": [
        "### 3.4 Model development (20+5 = 25pts)"
      ]
    },
    {
      "cell_type": "markdown",
      "metadata": {
        "id": "9D054RkbbRQI"
      },
      "source": [
        "**3.4.1** Write a function for the logistic regression algorithm. You will use the functions you have written above in this module. Recall that with gradient descent optimization, the computation loop goes as:\n",
        "For each epoch:\n",
        "1. Compute $scores = X_{train} W + b$\n",
        "2. Compute probability = softmax(scores)\n",
        "3. Compute Cross-entropy Loss\n",
        "4. Compute gradients of the loss with respect to the weights and bias.\n",
        "\n",
        "    Partial derivative of Loss with respect to Weight matrix:\n",
        "    $$\\frac{\\partial L}{\\partial W} = -\\frac{1}{m} X^T \\left(y - \\hat{y}\\right)$$\n",
        "\n",
        "    Partial derivative of Loss with respect to Bias matrix:\n",
        "    $$\\frac{\\partial L}{\\partial b_j} = -\\frac{1}{m} \\sum_{i=1}^m \\left(y_{ij} - p_{ij}\\right) $$\n",
        "\n",
        "5. Update the weights and biases\n",
        "    $$ W = W - (learning\\ rate * weight\\ gradient)  $$\n",
        "    $$ b = b - (learning\\ rate * weight\\ gradient)  $$\n",
        "\n",
        "**(20pts)**"
      ]
    },
    {
      "cell_type": "code",
      "execution_count": null,
      "metadata": {
        "id": "pHs9TTWUbRQI"
      },
      "outputs": [],
      "source": [
        "def logistic_regression(X_train, y_train, ):\n",
        "    \"\"\"\n",
        "    Performs logistic regression using softmax activation and gradient descent optimizer to classify the input data.\n",
        "\n",
        "    Parameters:\n",
        "    -----------\n",
        "    X_train : numpy.ndarray\n",
        "        The input training data of shape (num_samples, num_features).\n",
        "    y_train : numpy.ndarray\n",
        "        The training labels of shape (num_samples,).\n",
        "\n",
        "    Returns:\n",
        "    --------\n",
        "    W : numpy.ndarray\n",
        "        The learned weights of shape (num_features, num_classes).\n",
        "    b : numpy.ndarray\n",
        "        The learned bias of shape (1, num_classes).\n",
        "    loss_list : list\n",
        "        The list of loss values at each epoch during training.\n",
        "    \"\"\"\n",
        "\n",
        "    # get the number of samples and features from X_train (2pts)\n",
        "    print(X_train.shape)\n",
        "\n",
        "    # convert training labels to one-hot encoded labels (2pts)\n",
        "    train_labels_onehot = onehot(X_train)\n",
        "\n",
        "    # get the number of target classes from y_train (2pts)\n",
        "    print(y_train.shape)\n",
        "\n",
        "    # initialize the weights and bias with numpy arrays of zeros (1+1 = 2pts)\n",
        "    num_features = len(X_train)\n",
        "    num_classes = len(X_train.columns)\n",
        "\n",
        "    W = np.zeros([num_features, num_classes], dtype = int)\n",
        "    b = np.zeros([1, num_classes], dtype = int)\n",
        "\n",
        "    # set hyperparameters (1+1 = 2pts)\n",
        "    learning_rate = 0.0001\n",
        "\n",
        "\n",
        "    ## set the max number of epochs you want to train for\n",
        "    # (number of iterations to perform gradient descent)\n",
        "    num_epochs = 1000\n",
        "\n",
        "    ## initialize a list to store the loss values (1pt)\n",
        "    list_loss = []\n",
        "\n",
        "\n",
        "    '''\n",
        "    Write a for loop over epochs.\n",
        "    In each epoch:\n",
        "        compute the score for each class,\n",
        "        compute the softmax probabilities,\n",
        "        compute the cross-entropy loss,\n",
        "        compute the gradients of the loss with respect to the weights and bias,\n",
        "        update the weights and bias using the gradients and the learning rate.\n",
        "    '''\n",
        "    # (9pts)\n",
        "    # (loop to perform gradient descent)\n",
        "    for epoch in range(num_epochs):\n",
        "\n",
        "        # compute the score (Z) for each class.\n",
        "        Z = softmax(X_train)\n",
        "\n",
        "        # calculate the softmax probabilities\n",
        "        Y_pred = W*X_train + b # current predict value of Y\n",
        "\n",
        "        # compute the cross-entropy loss\n",
        "        list_loss = y_train - Y_pred\n",
        "\n",
        "        # compute the gradients of the loss with respect to the weights and bias\n",
        "        D_W = (-2/num_features) * sum(X_train * (y_train - Y_pred)) # derivative wrt W\n",
        "        D_b = (-2/num_features) * sum(y_train - Y_pred) # derivative wrt b\n",
        "\n",
        "        # update the weights and bias using the gradients and the learning rate\n",
        "        W = W - learning_rate * D_W\n",
        "        b = b - learning_rate * D_b\n",
        "\n",
        "        # For tracking progress, print the loss every 100 epochs\n",
        "        if epoch % 100 == 0:\n",
        "          print(W, b)\n",
        "\n"
      ]
    },
    {
      "cell_type": "markdown",
      "metadata": {
        "id": "3ZmdhWNSbRQJ"
      },
      "source": [
        "**3.4.2** Now that you have the model and the helper function, train the model with your prepared training dataset. Then plot the training loss curve. **(5pts)**"
      ]
    },
    {
      "cell_type": "code",
      "execution_count": null,
      "metadata": {
        "id": "fJVWy5X6bRQL"
      },
      "outputs": [],
      "source": [
        "# train the model\n",
        "logistic_regression(X_train, y_train)\n",
        "\n",
        "# plot the loss curve\n",
        "plt.plot(list_loss)\n",
        "plt.title(\"Model Loss\")\n",
        "plt.ylabel(\"loss\")\n",
        "plt.xlabel(\"epoch\")\n",
        "plt.show()"
      ]
    },
    {
      "cell_type": "markdown",
      "metadata": {
        "id": "0Doiq4-RbRQL"
      },
      "source": [
        "### 3.5 Evaluation (10+1+4+3+2 = 20pts)"
      ]
    },
    {
      "cell_type": "markdown",
      "metadata": {
        "id": "oLtJWV5gbRQM"
      },
      "source": [
        "Write a function to predict the labels of X_test using the model trained above and return the predicted labels as categorical values similar to train labels. **(10pts)**\n",
        "\n",
        "Note: By default, the predicted labels may return values within [0-6] instead of the original labels [3-9]. This can happen due to using argmax() to get label encoding from one-hot encoding when predicting test labels. You can add a simple offset to the argmax outputs of predicted labels to shift them to the range of [3-9]. This is important to note as you may see a very low accuracy even with a good model if true labels and predicted labels are not associated with the same categorical scale."
      ]
    },
    {
      "cell_type": "code",
      "execution_count": null,
      "metadata": {
        "id": "1s-qanymbRQM"
      },
      "outputs": [],
      "source": [
        "def predict(X_test, W, b):\n",
        "    '''\n",
        "    X_test: a numpy array of testing features\n",
        "    W: a numpy array of weights\n",
        "    b: a numpy array of bias\n",
        "    return: a numpy array of one-hot encoded labels\n",
        "    '''\n",
        "    # compute the scores\n",
        "    scores = X_test * W + b\n",
        "\n",
        "    # compute the probabilities\n",
        "    prob = softmax(scores)\n",
        "\n",
        "    # get the predicted labels\n",
        "    print(\"Max element: \", np.argmax(prob))\n",
        "\n",
        "    # return the predicted labels\n",
        "    print(\"Indices of max element: \", np.argmax(prob, axis=0))\n",
        "    print(\"Indices of max element: \", np.argmax(prob, axis=1))"
      ]
    },
    {
      "cell_type": "markdown",
      "metadata": {
        "id": "6TKVDP8obRQM"
      },
      "source": [
        "**3.5.1** import accuracy_score, confusion_matrix, precision_score, recall_score and f1_score from scikitlearn **(1pts)**"
      ]
    },
    {
      "cell_type": "code",
      "execution_count": null,
      "metadata": {
        "id": "qYLeAK_ibRQM"
      },
      "outputs": [],
      "source": [
        "from sklearn.metrics import accuracy_score, confusion_matrix, precision_score, recall_score, f1_score"
      ]
    },
    {
      "cell_type": "markdown",
      "metadata": {
        "id": "USEUP4gXbRQN"
      },
      "source": [
        "**3.5.2** Print the prediction scores on test data in terms of accuracy, precision and recall score. **(4pts)**"
      ]
    },
    {
      "cell_type": "code",
      "execution_count": null,
      "metadata": {
        "id": "oJTupvF2bRQN"
      },
      "outputs": [],
      "source": [
        "print(\"Accuracy scores: \", accuracy_score(X_test, scores))\n",
        "print(\"Recall scores: \", recall_score(X_test, scores))\n",
        "print(\"Precision scores: \", precision_score(X_test, scores))"
      ]
    },
    {
      "cell_type": "markdown",
      "metadata": {
        "id": "ktf11kiibRQN"
      },
      "source": [
        "**3.5.3** Generate and visualize the confusion matrix. You can use seaborn heatmap to visualize a heatmap of the confusion matrix. **(3pts)**"
      ]
    },
    {
      "cell_type": "code",
      "execution_count": null,
      "metadata": {
        "id": "ji8XXYrzbRQN"
      },
      "outputs": [],
      "source": [
        "# generate confusion matrix\n",
        "cf_matrix = confusion_matrix(X_test, scores)\n",
        "print(\"Confusion matrix: \", cf_matrix)\n",
        "\n",
        "# visualize heatmap of confusion matrix\n",
        "labels = [\"True Negative\",\"False Positive\",\"False Negative\",\"True Positive\"]\n",
        "labels = np.asarray(labels).reshape(2,2)\n",
        "sb.heatmap(cf_matrix, annot=labels, fmt=\"\", cmap='Blues')"
      ]
    },
    {
      "cell_type": "markdown",
      "metadata": {
        "id": "BkbmSCf-bRQO"
      },
      "source": [
        "**3.5.4** Which labels seem to be harder to classify for this model? **(2pts)**"
      ]
    },
    {
      "cell_type": "markdown",
      "metadata": {
        "id": "WwjgCzbsbRQO"
      },
      "source": [
        "I observed or noticed the true negative and true positive labels to be quite laborious to classify or group."
      ]
    },
    {
      "cell_type": "markdown",
      "metadata": {
        "id": "jwxMMQ6IbRQO"
      },
      "source": [
        "## 4. Using Scikitlearn Logistic Regression (4+2+7+2 = 15pts)"
      ]
    },
    {
      "cell_type": "markdown",
      "metadata": {
        "id": "mNJKW1OVbRQP"
      },
      "source": [
        "### 4.1 Import LogisticRegressionCV module and create an instance of it. (4pts)\n",
        "Use the following parameters:\n",
        "1. 5-fold crossvalidation,\n",
        "2. lbfgs solver,\n",
        "3. run for 1000 iterations\n",
        "4. use 'multinomial' for choosing softmax classifier"
      ]
    },
    {
      "cell_type": "code",
      "execution_count": null,
      "metadata": {
        "id": "mK4ejuSYbRQP"
      },
      "outputs": [],
      "source": [
        "# import module\n",
        "from sklearn.linear_model import LogisticRegressionCV\n",
        "\n",
        "# create instance of module\n",
        "clf = LogisticRegressionCV(cv=5, solver='lbfgs', max_iter=1000)"
      ]
    },
    {
      "cell_type": "markdown",
      "metadata": {
        "id": "6RzD4cvibRQP"
      },
      "source": [
        "### 4.2 Train the model and predict the labels for test set. (2pts)"
      ]
    },
    {
      "cell_type": "code",
      "execution_count": null,
      "metadata": {
        "id": "TRHtsUXebRQP"
      },
      "outputs": [],
      "source": [
        "# train the model\n",
        "logistic_regression(X_train, y_train)\n",
        "\n",
        "# predict labels\n",
        "predict(X, W, b)"
      ]
    },
    {
      "cell_type": "markdown",
      "metadata": {
        "id": "Wt8Z9m_sbRQQ"
      },
      "source": [
        "### 4.3 Compute the accuracy, precision, recall and F1 scores. Also visualize the confusion matrix. (1+1+1+1+3 =7pts)"
      ]
    },
    {
      "cell_type": "code",
      "execution_count": null,
      "metadata": {
        "id": "RvzoaKnubRQQ"
      },
      "outputs": [],
      "source": [
        "# Compute the accuracy, precision, recall and F1 scores\n",
        "print(\"Accuracy scores: \", accuracy_score(X_test, scores))\n",
        "print(\"Recall scores: \", recall_score(X_test, scores))\n",
        "print(\"Precision scores: \", precision_score(X_test, scores))\n",
        "print(\"F1 scores: \", f1_score(X_test, scores))\n",
        "\n",
        "# generate confusion matrix\n",
        "cf_matrix = confusion_matrix(X_test, scores)\n",
        "print(\"Confusion matrix: \", cf_matrix)\n",
        "\n",
        "# visualize heatmap of confusion matrix\n",
        "labels = [\"True Negative\",\"False Positive\",\"False Negative\",\"True Positive\"]\n",
        "labels = np.asarray(labels).reshape(2,2)\n",
        "sb.heatmap(cf_matrix, annot=labels, fmt=\"\", cmap='Blues')"
      ]
    },
    {
      "cell_type": "markdown",
      "metadata": {
        "id": "rjpfxRZTbRQQ"
      },
      "source": [
        "### 4.4 Did your previous model (built from scratch) and the model from scikitlearn library produced similar evaluation scores? (2pts)\n",
        "\n",
        "Explain (in <100 words) the similarity and dissimilarity in score. What changed, what didn't, and why?"
      ]
    },
    {
      "cell_type": "markdown",
      "metadata": {
        "id": "jNI-l9ysbRQQ"
      },
      "source": [
        "I did not particularly notice any extenuating similarities or dissimilarities between my model built from scratch and the nodel from scikitlearn's library."
      ]
    },
    {
      "cell_type": "markdown",
      "metadata": {
        "id": "hz2owqGebRQR"
      },
      "source": [
        "## 5. Using Scikitlearn Multi-layer Perceptron (16+19 = 35pts)"
      ]
    },
    {
      "cell_type": "markdown",
      "metadata": {
        "id": "iPLInIGobRQS"
      },
      "source": [
        "### 5.1 MLP with one hidden layer and stochastic gradient descent optimizer (4+2+1+7+2 = 16pts)"
      ]
    },
    {
      "cell_type": "markdown",
      "metadata": {
        "id": "Z1YOLOSCbRQS"
      },
      "source": [
        "**5.1.1** Import MLPClassifier from scikitlearn's neural_network library. Then create a model instance of this classifier.\n",
        "\n",
        "Use the following parameters:\n",
        "1. One hidden layer with 100 neurons,\n",
        "2. ReLu activation,\n",
        "3. Stochastic Gradient Descent solver\n",
        "4. Learning rate = 0.01 (or you can continue to use your previous learning rate)\n",
        "5. No of epoch = 1000\n",
        "\n",
        "Also, set random_state to a fixed value so that your result is reproducible. **(4pts)**"
      ]
    },
    {
      "cell_type": "code",
      "execution_count": null,
      "metadata": {
        "id": "eppgbJXWbRQS"
      },
      "outputs": [],
      "source": [
        "# import module\n",
        "from sklearn.neural_network import MLPClassifier\n",
        "\n",
        "# create instance of module\n",
        "clf_2 = MLPClassifier(activation='relu', hidden_layer_sized=(100,), learning_rate=0.01, n_epochs=1000, random_state=1)"
      ]
    },
    {
      "cell_type": "markdown",
      "metadata": {
        "id": "P3g-XQNvbRQT"
      },
      "source": [
        "**5.1.2** Train the model with training set.\n",
        "Then predict the labels for test set. **(2pts)**"
      ]
    },
    {
      "cell_type": "code",
      "execution_count": null,
      "metadata": {
        "id": "y0RgK3YybRQT"
      },
      "outputs": [],
      "source": [
        "# train the model\n",
        "logistic_regression(X, y)\n",
        "\n",
        "# predict labels\n",
        "predict(X, W, b)"
      ]
    },
    {
      "cell_type": "markdown",
      "metadata": {
        "id": "Cl9JG9JGbRQT"
      },
      "source": [
        "**5.1.3** Plot the loss curve **(1pt)**"
      ]
    },
    {
      "cell_type": "code",
      "execution_count": null,
      "metadata": {
        "id": "ZiqqeJEZbRQT"
      },
      "outputs": [],
      "source": [
        "# plot the loss curve\n",
        "plt.plot(list_loss)\n",
        "plt.title(\"Model Loss\")\n",
        "plt.ylabel(\"loss\")\n",
        "plt.xlabel(\"epoch\")\n",
        "plt.show()"
      ]
    },
    {
      "cell_type": "markdown",
      "metadata": {
        "id": "Krl_KqiJbRQT"
      },
      "source": [
        "**5.1.4** Print the accuracy, precision, recall and F1 scores. Also show the confusion matrix. **(1+1+1+1+3 = 7pts)**"
      ]
    },
    {
      "cell_type": "code",
      "execution_count": null,
      "metadata": {
        "id": "necnNkVRbRQU"
      },
      "outputs": [],
      "source": [
        "# Compute the accuracy, precision, recall and F1 scores\n",
        "print(\"Accuracy scores: \", accuracy_score(X_test, scores))\n",
        "print(\"Recall scores: \", recall_score(X_test, scores))\n",
        "print(\"Precision scores: \", precision_score(X_test, scores))\n",
        "print(\"F1 scores: \", f1_score(X_test, scores))\n",
        "\n",
        "# generate confusion matrix\n",
        "cf_matrix = confusion_matrix(X_test, scores)\n",
        "print(\"Confusion matrix: \", cf_matrix)\n",
        "\n",
        "# visualize heatmap of confusion matrix\n",
        "labels = [\"True Negative\",\"False Positive\",\"False Negative\",\"True Positive\"]\n",
        "labels = np.asarray(labels).reshape(2,2)\n",
        "sb.heatmap(cf_matrix, annot=labels, fmt=\"\", cmap='Blues')"
      ]
    },
    {
      "cell_type": "markdown",
      "metadata": {
        "id": "cvIfCak8bRQU"
      },
      "source": [
        "**5.1.5** Did you see any change in scores after using the MLP classifier?\n",
        "\n",
        "In <100 words, describe your observation. **(2pts)**"
      ]
    },
    {
      "cell_type": "markdown",
      "metadata": {
        "id": "Gb-8xowKbRQU"
      },
      "source": [
        "Interestingly, I did not visualing percieve or sense any specific changes in scores after using the MLP classifier from scikitlearn's neural_network library."
      ]
    },
    {
      "cell_type": "markdown",
      "metadata": {
        "id": "Ko815h_EbRQU"
      },
      "source": [
        "### 5.2 MLP with two hidden layer and adam optimizer (4+2+1+7+2+3 = 19pts)"
      ]
    },
    {
      "cell_type": "markdown",
      "metadata": {
        "id": "H1RuI3MobRQV"
      },
      "source": [
        "**5.2.1** Import MLPClassifier from scikitlearn's neural_network library. Then create a model instance of this classifier.\n",
        "\n",
        "Use the following parameters:\n",
        "1. **Two** hidden layers with 100 neurons,\n",
        "2. ReLu activation,\n",
        "3. Adam solver (this is an advanced optimizer which we did not cover in class. However the usage is quite straightforward)\n",
        "4. Learning rate = 0.01 (or you can continue to use your previous learning rate)\n",
        "5. No of epoch = 1000\n",
        "\n",
        "Also, set random_state to a fixed value so that your result is reproducible. **(4pts)**\n",
        "\n",
        "(Refer to the scikitlearn documentation for clarification on the parameters)"
      ]
    },
    {
      "cell_type": "code",
      "execution_count": null,
      "metadata": {
        "id": "jtuKCS3WbRQV"
      },
      "outputs": [],
      "source": [
        "# import module\n",
        "from sklearn.neural_network import MLPClassifier\n",
        "\n",
        "# create instance of module\n",
        "clf_3 = MLPClassifier(activation='relu', hidden_layer_size=(100,), learning_rate=0.01, n_epochs=1000, random_state=1)"
      ]
    },
    {
      "cell_type": "markdown",
      "metadata": {
        "id": "GX_xEfwlbRQW"
      },
      "source": [
        "**5.2.2** Train the model with training set.\n",
        "Then predict the labels for test set. **(2pts)**"
      ]
    },
    {
      "cell_type": "code",
      "execution_count": null,
      "metadata": {
        "id": "Z0Bv1zd6bRQW"
      },
      "outputs": [],
      "source": [
        "# train the model\n",
        "logistic_regression(X, y)\n",
        "\n",
        "# predict labels\n",
        "predict(X, W, b)"
      ]
    },
    {
      "cell_type": "markdown",
      "metadata": {
        "id": "6AoU6_TPbRQW"
      },
      "source": [
        "**5.2.3** Plot the loss curve **(1pt)**"
      ]
    },
    {
      "cell_type": "code",
      "execution_count": null,
      "metadata": {
        "id": "1CEJ5w6obRQW"
      },
      "outputs": [],
      "source": [
        "# plot the loss curve\n",
        "plt.plot(list_loss)\n",
        "plt.title(\"Model Loss\")\n",
        "plt.ylabel(\"loss\")\n",
        "plt.xlabel(\"epoch\")\n",
        "plt.show()"
      ]
    },
    {
      "cell_type": "markdown",
      "metadata": {
        "id": "4HNsszadbRQW"
      },
      "source": [
        "**5.2.4** Print the accuracy, precision, recall and F1 scores. Also show the confusion matrix. **(1+1+1+1+3 = 7pts)**"
      ]
    },
    {
      "cell_type": "code",
      "execution_count": null,
      "metadata": {
        "id": "Bu7e3buWbRQZ"
      },
      "outputs": [],
      "source": [
        "# Compute the accuracy, precision, recall and F1 scores\n",
        "print(\"Accuracy scores: \", accuracy_score(X_test, scores))\n",
        "print(\"Recall scores: \", recall_score(X_test, scores))\n",
        "print(\"Precision scores: \", precision_score(X_test, scores))\n",
        "print(\"F1 scores: \", f1_score(X_test, scores))\n",
        "\n",
        "# generate confusion matrix\n",
        "cf_matrix = confusion_matrix(X_test, scores)\n",
        "print(\"Confusion matrix: \", cf_matrix)\n",
        "\n",
        "# visualize heatmap of confusion matrix\n",
        "labels = [\"True Negative\",\"False Positive\",\"False Negative\",\"True Positive\"]\n",
        "labels = np.asarray(labels).reshape(2,2)\n",
        "sb.heatmap(cf_matrix, annot=labels, fmt=\"\", cmap='Blues')"
      ]
    },
    {
      "cell_type": "markdown",
      "metadata": {
        "id": "k4Zl3p1NbRQZ"
      },
      "source": [
        "**5.2.5** Describe any difference in the loss curve from MLP with one hidden layer and MLP with two hidden layer. **(2pts)**"
      ]
    },
    {
      "cell_type": "markdown",
      "metadata": {
        "id": "8ghROBrWbRQZ"
      },
      "source": [
        "Differences in loss curve from the MLP with a single hidden layer and the MLP with two seperate hidden layers were not observed or detected from my own personal point of view."
      ]
    },
    {
      "cell_type": "markdown",
      "metadata": {
        "id": "kmSmMyBDbRQZ"
      },
      "source": [
        "**5.2.6** Did you see any change in scores between the two MLP models?\n",
        "\n",
        "In <100 words, describe your observation. **(3pts)**"
      ]
    },
    {
      "cell_type": "markdown",
      "metadata": {
        "id": "JOWIlwHObRQa"
      },
      "source": [
        "I did not detect or visually perceive any changes or substitutions in scores between the two differing and varied MLP models."
      ]
    }
  ],
  "metadata": {
    "kernelspec": {
      "display_name": "kd",
      "language": "python",
      "name": "python3"
    },
    "language_info": {
      "codemirror_mode": {
        "name": "ipython",
        "version": 3
      },
      "file_extension": ".py",
      "mimetype": "text/x-python",
      "name": "python",
      "nbconvert_exporter": "python",
      "pygments_lexer": "ipython3",
      "version": "3.9.12"
    },
    "orig_nbformat": 4,
    "colab": {
      "provenance": [],
      "include_colab_link": true
    }
  },
  "nbformat": 4,
  "nbformat_minor": 0
}